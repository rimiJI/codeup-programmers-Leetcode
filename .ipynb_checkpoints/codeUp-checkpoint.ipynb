{
 "cells": [
  {
   "cell_type": "code",
   "execution_count": null,
   "id": "960dc196-8b97-4eb8-af74-bfae38e299b4",
   "metadata": {},
   "outputs": [],
   "source": []
  },
  {
   "cell_type": "code",
   "execution_count": 13,
   "id": "fcfba227-b2f7-411e-9cc7-0aa26cbfb73b",
   "metadata": {},
   "outputs": [
    {
     "name": "stdin",
     "output_type": "stream",
     "text": [
      " 1 0\n"
     ]
    },
    {
     "name": "stdout",
     "output_type": "stream",
     "text": [
      "False\n"
     ]
    }
   ],
   "source": [
    "a,b=map(int,input().split())\n",
    "print( a==0 and b==0)\n"
   ]
  },
  {
   "cell_type": "code",
   "execution_count": 8,
   "id": "1e4093dd-43fb-43d8-9911-dc0a6147737c",
   "metadata": {},
   "outputs": [
    {
     "name": "stdin",
     "output_type": "stream",
     "text": [
      " 456789-456123\n"
     ]
    },
    {
     "name": "stdout",
     "output_type": "stream",
     "text": [
      "456789456123\n"
     ]
    }
   ],
   "source": [
    "a,b=input().split(\"-\")\n",
    "print(a+b)"
   ]
  },
  {
   "cell_type": "code",
   "execution_count": 6,
   "id": "9939614a-fe39-46cd-9ff6-6f7cbe99db7b",
   "metadata": {},
   "outputs": [
    {
     "name": "stdin",
     "output_type": "stream",
     "text": [
      " 4.5.6\n"
     ]
    },
    {
     "name": "stdout",
     "output_type": "stream",
     "text": [
      "6-5-4\n"
     ]
    }
   ],
   "source": [
    "y,m,d=input().split('.')\n",
    "print(d,m,y,sep=\"-\")"
   ]
  },
  {
   "cell_type": "code",
   "execution_count": 4,
   "id": "5bc1a031-08c1-47f9-ba60-31bf00bfb516",
   "metadata": {},
   "outputs": [
    {
     "name": "stdin",
     "output_type": "stream",
     "text": [
      " 5:6\n"
     ]
    },
    {
     "name": "stdout",
     "output_type": "stream",
     "text": [
      "5:6\n"
     ]
    }
   ],
   "source": [
    "a,b=input().split(\":\")\n",
    "print(a,b,sep=':')"
   ]
  },
  {
   "cell_type": "markdown",
   "id": "70797080-1ef1-4bad-9f15-d2f45901a618",
   "metadata": {},
   "source": [
    "## a부터 b까지 출력하기\n",
    "240705"
   ]
  },
  {
   "cell_type": "code",
   "execution_count": null,
   "id": "f49b60f4-3154-45ef-afca-c3daca417973",
   "metadata": {},
   "outputs": [],
   "source": [
    "a,b=map(int,input().split())\n",
    "if a>b:\n",
    "    print(\" \".join(map(str,[i for i in range(b,a+1)])))\n",
    "else:\n",
    "    print(\" \".join(map(str,[i for i in range(a, b+1)])))"
   ]
  },
  {
   "cell_type": "markdown",
   "id": "208bcdf2-1a8c-474f-adcd-e760fa27a2af",
   "metadata": {},
   "source": [
    "## 1부터 n까지 출력하기"
   ]
  },
  {
   "cell_type": "code",
   "execution_count": 3,
   "id": "742be858-f2b7-4663-a614-4d34c9fa38ad",
   "metadata": {},
   "outputs": [
    {
     "name": "stdin",
     "output_type": "stream",
     "text": [
      " 5\n"
     ]
    },
    {
     "name": "stdout",
     "output_type": "stream",
     "text": [
      "1 2 3 4 5\n"
     ]
    }
   ],
   "source": [
    "n=int(input())\n",
    "print(\" \".join(map(str,[i for i in range(1, n+1)])))"
   ]
  }
 ],
 "metadata": {
  "kernelspec": {
   "display_name": "Python 3 (ipykernel)",
   "language": "python",
   "name": "python3"
  },
  "language_info": {
   "codemirror_mode": {
    "name": "ipython",
    "version": 3
   },
   "file_extension": ".py",
   "mimetype": "text/x-python",
   "name": "python",
   "nbconvert_exporter": "python",
   "pygments_lexer": "ipython3",
   "version": "3.12.2"
  }
 },
 "nbformat": 4,
 "nbformat_minor": 5
}
