{
 "cells": [
  {
   "cell_type": "code",
   "execution_count": null,
   "metadata": {},
   "outputs": [],
   "source": []
  },
  {
   "cell_type": "code",
   "execution_count": null,
   "metadata": {},
   "outputs": [],
   "source": [
    "\n",
    "#n개 \n",
    "a+b+...n=9\n",
    "max(a,b)"
   ]
  },
  {
   "cell_type": "code",
   "execution_count": 10,
   "metadata": {},
   "outputs": [
    {
     "name": "stdin",
     "output_type": "stream",
     "text": [
      " ((())\n"
     ]
    },
    {
     "data": {
      "text/plain": [
       "3"
      ]
     },
     "execution_count": 10,
     "metadata": {},
     "output_type": "execute_result"
    }
   ],
   "source": [
    "\n",
    "s=input()\n",
    "#print(list(s))\n",
    "len([i for i in list(s) if i == '('])"
   ]
  },
  {
   "cell_type": "code",
   "execution_count": 25,
   "metadata": {},
   "outputs": [
    {
     "name": "stdin",
     "output_type": "stream",
     "text": [
      " 20\n"
     ]
    },
    {
     "name": "stdout",
     "output_type": "stream",
     "text": [
      "6\n"
     ]
    }
   ],
   "source": [
    "#간결한 답\n",
    "def solution(n):\n",
    "\t\treturn len([i for i in range(1,21) \\\n",
    "                    if n%i==0])\n",
    "\n",
    "n=int(input())\n",
    "print(solution(n))"
   ]
  },
  {
   "cell_type": "code",
   "execution_count": 21,
   "metadata": {},
   "outputs": [
    {
     "name": "stdout",
     "output_type": "stream",
     "text": [
      "[1, 2, 3, 4, 5]\n"
     ]
    }
   ],
   "source": [
    "result = [i for i in range(1, 6)]\n",
    "print([i for i in range(1, 6)])  # [1, 2, 3, 4, 5]"
   ]
  },
  {
   "cell_type": "markdown",
   "metadata": {},
   "source": [
    "### 이거 오답노트 꼭 적자...\n",
    "### 1~n까지 리스트 출력하고싶을때 list(range(1,n+1))이렇게 해야하는데 난 자꾸 [(range(1,n+1))]라고 씀.....\n",
    "### 특정 앞순서가 있음 위와같이 하지만 아니면 \n",
    "### range(21) :  0부터 21까지"
   ]
  },
  {
   "cell_type": "code",
   "execution_count": 16,
   "metadata": {},
   "outputs": [
    {
     "data": {
      "text/plain": [
       "[0, 1, 2, 3, 4, 5, 6, 7, 8, 9, 10, 11, 12, 13, 14, 15, 16, 17, 18, 19]"
      ]
     },
     "execution_count": 16,
     "metadata": {},
     "output_type": "execute_result"
    }
   ],
   "source": [
    "list(range(n)) \n"
   ]
  },
  {
   "cell_type": "code",
   "execution_count": 19,
   "metadata": {},
   "outputs": [
    {
     "name": "stdin",
     "output_type": "stream",
     "text": [
      " 100\n"
     ]
    },
    {
     "name": "stdout",
     "output_type": "stream",
     "text": [
      "9\n"
     ]
    }
   ],
   "source": [
    "def solution(n):\n",
    "    count=0\n",
    "    for i in range(1,n+1) :  #이 코드가 틀리는 이유는 range(n+1)에서 0을 포함하고 있기 때문입니다. i가 0일 때 n % i를 계산하면 ZeroDivisionError가 발생합니다.\n",
    "        if n%i == 0 :\n",
    "            count+=1    \n",
    "        else:\n",
    "            continue\n",
    "    return count\n",
    "\n",
    "n=int(input())\n",
    "print(solution(n))"
   ]
  },
  {
   "cell_type": "code",
   "execution_count": 2,
   "metadata": {},
   "outputs": [
    {
     "name": "stdin",
     "output_type": "stream",
     "text": [
      " 5\n"
     ]
    },
    {
     "name": "stdout",
     "output_type": "stream",
     "text": [
      "2\n"
     ]
    }
   ],
   "source": [
    "def solution(message):\n",
    "    return len(message)*2\n",
    "\n",
    "message=input()\n",
    "print(solution(message))\n"
   ]
  },
  {
   "cell_type": "code",
   "execution_count": 3,
   "metadata": {
    "scrolled": true
   },
   "outputs": [
    {
     "name": "stdin",
     "output_type": "stream",
     "text": [
      " c\n"
     ]
    },
    {
     "ename": "ValueError",
     "evalue": "invalid literal for int() with base 10: 'c'",
     "output_type": "error",
     "traceback": [
      "\u001b[1;31m---------------------------------------------------------------------------\u001b[0m",
      "\u001b[1;31mValueError\u001b[0m                                Traceback (most recent call last)",
      "Cell \u001b[1;32mIn[3], line 8\u001b[0m\n\u001b[0;32m      5\u001b[0m             answer\u001b[38;5;241m+\u001b[39m\u001b[38;5;241m=\u001b[39m\u001b[38;5;241m1\u001b[39m\n\u001b[0;32m      6\u001b[0m     \u001b[38;5;28;01mreturn\u001b[39;00m answer\n\u001b[1;32m----> 8\u001b[0m array \u001b[38;5;241m=\u001b[39m \u001b[38;5;28;43mlist\u001b[39;49m\u001b[43m(\u001b[49m\u001b[38;5;28;43mmap\u001b[39;49m\u001b[43m(\u001b[49m\u001b[38;5;28;43mint\u001b[39;49m\u001b[43m,\u001b[49m\u001b[38;5;28;43minput\u001b[39;49m\u001b[43m(\u001b[49m\u001b[43m)\u001b[49m\u001b[38;5;241;43m.\u001b[39;49m\u001b[43msplit\u001b[49m\u001b[43m(\u001b[49m\u001b[43m)\u001b[49m\u001b[43m)\u001b[49m\u001b[43m)\u001b[49m\n\u001b[0;32m      9\u001b[0m height\u001b[38;5;241m=\u001b[39m\u001b[38;5;28mint\u001b[39m(\u001b[38;5;28minput\u001b[39m())\n\u001b[0;32m     10\u001b[0m \u001b[38;5;28mprint\u001b[39m(array)\n",
      "\u001b[1;31mValueError\u001b[0m: invalid literal for int() with base 10: 'c'"
     ]
    }
   ],
   "source": [
    "def solution(array,height):\n",
    "    answer=0\n",
    "    for i in array:\n",
    "        if i >height:\n",
    "            answer+=1\n",
    "    return answer\n",
    "\n",
    "array = list(map(int,input().split()))\n",
    "height=int(input())\n",
    "print(array)\n",
    "print(height)\n",
    "print(solution(array,height))"
   ]
  },
  {
   "cell_type": "code",
   "execution_count": 20,
   "metadata": {},
   "outputs": [
    {
     "name": "stdin",
     "output_type": "stream",
     "text": [
      " 5 5 5 9 7 6 1\n",
      " 5\n"
     ]
    },
    {
     "name": "stdout",
     "output_type": "stream",
     "text": [
      "[5, 5, 5, 9, 7, 6, 1]\n",
      "5\n",
      "3\n"
     ]
    }
   ],
   "source": [
    "def solution(array,height):\n",
    "    return sum(1 for i in array if i > height)\n",
    "\n",
    "array = list(map(int,input().split()))\n",
    "height=int(input())\n",
    "print(array)\n",
    "print(height)\n",
    "print(solution(array,height))"
   ]
  },
  {
   "cell_type": "code",
   "execution_count": 5,
   "metadata": {},
   "outputs": [
    {
     "name": "stdin",
     "output_type": "stream",
     "text": [
      " 58000000\n"
     ]
    },
    {
     "name": "stdout",
     "output_type": "stream",
     "text": [
      "46400000\n"
     ]
    }
   ],
   "source": [
    "#듀플로 만드는 방법\n",
    "def solution(price):\n",
    "    discount_rates = {500000:0.8, 300000:0.9, 100000:0.95, 0:1}\n",
    "    for d_price,d_rate in discount_rates.items():\n",
    "        if price >= d_price:\n",
    "            return int(price*d_rate)\n",
    "price=int(input())\n",
    "print(solution(price))"
   ]
  },
  {
   "cell_type": "code",
   "execution_count": null,
   "metadata": {},
   "outputs": [],
   "source": []
  },
  {
   "cell_type": "markdown",
   "metadata": {},
   "source": [
    "# day3,4"
   ]
  },
  {
   "cell_type": "code",
   "execution_count": null,
   "metadata": {},
   "outputs": [],
   "source": []
  },
  {
   "cell_type": "code",
   "execution_count": 4,
   "metadata": {},
   "outputs": [
    {
     "name": "stdin",
     "output_type": "stream",
     "text": [
      " 4 5 6\n"
     ]
    },
    {
     "name": "stdout",
     "output_type": "stream",
     "text": [
      "[4, 5, 6]\n",
      "5.0\n"
     ]
    }
   ],
   "source": [
    "def solution(numbers):\n",
    "    return sum(numbers)/len(numbers)\n",
    "#------------------------------\n",
    "    \n",
    "numbers=list(map(int,input().split()))\n",
    "print(numbers)\n",
    "print(solution(numbers))"
   ]
  },
  {
   "cell_type": "markdown",
   "metadata": {},
   "source": [
    "input()-내가 입력한 숫자를 \n",
    ".split() - 띄어쓰기를 기준으로 분리해서 \n",
    "map(유형,바꿀애) - 입력한걸 원하는 유형값으로 (여기선 int 정수형)바꿔준다.\n",
    "그리고 list 유형으로 바꿔줘라\n",
    "그걸 numbers라는 변수값에 넣고\n",
    "\n",
    "solution이라는 함수를 만든다.\n",
    "그 함수는 만든리스트를 더한값 / 만든리스트의 갯수\n",
    "값을 리턴으로 가져와서 변수에 할당한다."
   ]
  },
  {
   "cell_type": "code",
   "execution_count": 8,
   "metadata": {},
   "outputs": [
    {
     "ename": "SyntaxError",
     "evalue": "invalid syntax (827544996.py, line 3)",
     "output_type": "error",
     "traceback": [
      "\u001b[1;36m  Cell \u001b[1;32mIn[8], line 3\u001b[1;36m\u001b[0m\n\u001b[1;33m    nlist=n+i for i in n if n%2==0\u001b[0m\n\u001b[1;37m              ^\u001b[0m\n\u001b[1;31mSyntaxError\u001b[0m\u001b[1;31m:\u001b[0m invalid syntax\n"
     ]
    }
   ],
   "source": [
    "\n",
    "n=int(input())\n",
    "n\n",
    "nlist=n+i for i in n if n%2==0\n",
    "nlist"
   ]
  },
  {
   "cell_type": "code",
   "execution_count": 10,
   "metadata": {},
   "outputs": [
    {
     "name": "stdin",
     "output_type": "stream",
     "text": [
      " 10\n"
     ]
    },
    {
     "name": "stdout",
     "output_type": "stream",
     "text": [
      "30\n"
     ]
    }
   ],
   "source": [
    "a=int(input())\n",
    "s=0   #저장할 변수\n",
    "for i in range(1,a+1): #포인렌지 돌리기\n",
    "    if i%2==0:         #if로 골라낸 짝수\n",
    "        # print(i)\n",
    "        s+=i           #더해준다음\n",
    "print(s)  "
   ]
  },
  {
   "cell_type": "code",
   "execution_count": 15,
   "metadata": {},
   "outputs": [
    {
     "name": "stdin",
     "output_type": "stream",
     "text": [
      " 6\n"
     ]
    },
    {
     "data": {
      "text/plain": [
       "12"
      ]
     },
     "execution_count": 15,
     "metadata": {},
     "output_type": "execute_result"
    }
   ],
   "source": [
    "def sol(n):\n",
    "    sum=0\n",
    "    for i in range(1,n+1):\n",
    "        if i % 2 ==0:\n",
    "            sum += i \n",
    "    return sum\n",
    "\n",
    "n=int(input())\n",
    "sol(n)"
   ]
  },
  {
   "cell_type": "code",
   "execution_count": 18,
   "metadata": {},
   "outputs": [
    {
     "name": "stdin",
     "output_type": "stream",
     "text": [
      " 6\n"
     ]
    },
    {
     "data": {
      "text/plain": [
       "12"
      ]
     },
     "execution_count": 18,
     "metadata": {},
     "output_type": "execute_result"
    }
   ],
   "source": [
    "#range에서 건너뛰기로 짝수 더기기\n",
    "def sol(n):\n",
    "    sum=0\n",
    "    for i in range(2,n+1,2):\n",
    "        sum += i \n",
    "    return sum\n",
    "\n",
    "n=int(input())\n",
    "sol(n)\n"
   ]
  },
  {
   "cell_type": "code",
   "execution_count": 21,
   "metadata": {},
   "outputs": [
    {
     "name": "stdin",
     "output_type": "stream",
     "text": [
      " 7\n"
     ]
    },
    {
     "data": {
      "text/plain": [
       "12"
      ]
     },
     "execution_count": 21,
     "metadata": {},
     "output_type": "execute_result"
    }
   ],
   "source": [
    "#sum함수 사용\n",
    "def sol(n):\n",
    "    return sum(range(2,n+1,2))\n",
    "\n",
    "n=int(input())\n",
    "sol(n)"
   ]
  },
  {
   "cell_type": "code",
   "execution_count": 25,
   "metadata": {},
   "outputs": [
    {
     "name": "stdin",
     "output_type": "stream",
     "text": [
      " 7\n"
     ]
    },
    {
     "data": {
      "text/plain": [
       "12"
      ]
     },
     "execution_count": 25,
     "metadata": {},
     "output_type": "execute_result"
    }
   ],
   "source": [
    "def sol(n):\n",
    "    return n//2 * ((n//2)+1)\n",
    "\n",
    "sol(int(input()))"
   ]
  },
  {
   "cell_type": "code",
   "execution_count": 27,
   "metadata": {},
   "outputs": [
    {
     "name": "stdin",
     "output_type": "stream",
     "text": [
      " 7\n"
     ]
    },
    {
     "data": {
      "text/plain": [
       "12"
      ]
     },
     "execution_count": 27,
     "metadata": {},
     "output_type": "execute_result"
    }
   ],
   "source": [
    "def sol(n):\n",
    "    return sum([i for i in range(2 ,n+1,2)])\n",
    "\n",
    "sol(int(input()))"
   ]
  },
  {
   "cell_type": "code",
   "execution_count": 8,
   "metadata": {},
   "outputs": [
    {
     "name": "stdout",
     "output_type": "stream",
     "text": [
      "1 2 3 4 5 6 7 8 9\n"
     ]
    }
   ],
   "source": [
    "print(' '.join(map(str,[i for i in range(1,10)])))"
   ]
  },
  {
   "cell_type": "code",
   "execution_count": 6,
   "metadata": {},
   "outputs": [
    {
     "name": "stdout",
     "output_type": "stream",
     "text": [
      "[1, 2, 3, 4, 5, 6, 7, 8, 9]\n"
     ]
    }
   ],
   "source": [
    "print([i for i in range(1,10)])"
   ]
  },
  {
   "cell_type": "code",
   "execution_count": 3,
   "metadata": {},
   "outputs": [
    {
     "name": "stdout",
     "output_type": "stream",
     "text": [
      "[range(0, 10)]\n"
     ]
    }
   ],
   "source": [
    "print([range(10)])"
   ]
  },
  {
   "cell_type": "code",
   "execution_count": null,
   "metadata": {},
   "outputs": [],
   "source": []
  },
  {
   "cell_type": "markdown",
   "metadata": {},
   "source": [
    "# day 2"
   ]
  },
  {
   "cell_type": "code",
   "execution_count": 9,
   "metadata": {},
   "outputs": [
    {
     "name": "stdout",
     "output_type": "stream",
     "text": [
      "array [-1, 0, 9]\n",
      "middleinx 1\n",
      "answer 0\n",
      "0\n"
     ]
    }
   ],
   "source": [
    "#중앙값구하기 풀이\n",
    "def solution(array):\n",
    "    array=sorted(array)\n",
    "    print('array',array)\n",
    "    middleinx=(len(array)//2)\n",
    "    print('middleinx',middleinx)\n",
    "    answer = array[middleinx]\n",
    "    print('answer',answer)\n",
    "    return answer\n",
    "\n",
    "array=\t[9,-1,0]\n",
    "print(solution(array))\n"
   ]
  },
  {
   "cell_type": "code",
   "execution_count": null,
   "metadata": {},
   "outputs": [],
   "source": [
    "#내답\n",
    "def solution(array):\n",
    "    array=sorted(array)\n",
    "    middleinx=(len(array)//2)\n",
    "    answer = array[middleinx]\n",
    "    return answer"
   ]
  },
  {
   "cell_type": "code",
   "execution_count": null,
   "metadata": {},
   "outputs": [],
   "source": [
    "#다른사람답\n",
    "def solution(array):\n",
    "    return sorted(array)[len(array)//2]"
   ]
  },
  {
   "cell_type": "markdown",
   "metadata": {},
   "source": [
    "### 최빈값구하기"
   ]
  },
  {
   "cell_type": "markdown",
   "metadata": {},
   "source": [
    "이거 내가 모르는거네"
   ]
  },
  {
   "cell_type": "code",
   "execution_count": 21,
   "metadata": {},
   "outputs": [],
   "source": [
    "array=[1,1,2,2,2,3]\n",
    "from collections import Counter\n",
    "\n",
    "def solution(array):\n",
    "    count = Counter(array)\n",
    "    max_c= max(count.values())\n",
    "    most_c=[num for num,fr in count.item() if fr==max_c]\n",
    "\n",
    "    if len(most_c)>1:\n",
    "        return -1\n",
    "        \n",
    "    return most_c[0]\n",
    "    "
   ]
  },
  {
   "cell_type": "markdown",
   "metadata": {},
   "source": [
    "### 짝수는 싫어요"
   ]
  },
  {
   "cell_type": "code",
   "execution_count": 36,
   "metadata": {},
   "outputs": [
    {
     "name": "stdin",
     "output_type": "stream",
     "text": [
      " 15\n"
     ]
    },
    {
     "name": "stdout",
     "output_type": "stream",
     "text": [
      "[1, 3, 5, 7, 9, 11, 13, 15]\n"
     ]
    }
   ],
   "source": [
    "n=int(input())\n",
    "answer=[ i for i in range(n+1) if i%2 != 0 ]\n",
    "print(answer)"
   ]
  },
  {
   "cell_type": "code",
   "execution_count": 35,
   "metadata": {},
   "outputs": [
    {
     "name": "stdin",
     "output_type": "stream",
     "text": [
      " 10\n"
     ]
    },
    {
     "name": "stdout",
     "output_type": "stream",
     "text": [
      "[0, 1, 2, 3, 4, 5, 6, 7, 8, 9]\n"
     ]
    }
   ],
   "source": [
    "n=int(input())\n",
    "n= [i for i in range(n)]\n",
    "print(n)\n"
   ]
  },
  {
   "cell_type": "code",
   "execution_count": null,
   "metadata": {},
   "outputs": [],
   "source": [
    "#다른사람풀이\n",
    "def solution(n):\n",
    "    return [i for i in range(1, n+1, 2)]"
   ]
  },
  {
   "cell_type": "code",
   "execution_count": 41,
   "metadata": {},
   "outputs": [
    {
     "name": "stdin",
     "output_type": "stream",
     "text": [
      " 5\n"
     ]
    },
    {
     "name": "stdout",
     "output_type": "stream",
     "text": [
      "[1, 3, 5]\n"
     ]
    }
   ],
   "source": [
    "#다른사람 풀이 설명 \n",
    "n=int(input())\n",
    "answer=[x for x in range(n + 1) if x % 2]\n",
    "print(answer)\n",
    "\n",
    "'''\n",
    "두 번째 코드에서 if x % 2가 홀수를 선택하는 이유를 자세히 설명하면:\n",
    "\n",
    "x % 2는 x를 2로 나눈 나머지를 계산합니다.\n",
    "나머지가 0이면 이는 False로 평가되고, 나머지가 1이면 이는 True로 평가됩니다.\n",
    "파이썬에서는 0은 False로, 그 외의 숫자는 True로 간주됩니다. 따라서 if x % 2는 x % 2 != 0과 동일한 조건을 가집니다.\n",
    "'''"
   ]
  },
  {
   "cell_type": "markdown",
   "metadata": {},
   "source": [
    "# day0"
   ]
  },
  {
   "cell_type": "code",
   "execution_count": null,
   "metadata": {},
   "outputs": [],
   "source": [
    "#day1 두수의 곱\n",
    "def solution(num1, num2):\n",
    "    answer = 0\n",
    "    if 0 <= num1 <= 100 and 0 <= num2 <= 100:\n",
    "        answer=int(num1)*int(num2)\n",
    "        return answer"
   ]
  },
  {
   "cell_type": "code",
   "execution_count": 12,
   "metadata": {},
   "outputs": [
    {
     "name": "stdout",
     "output_type": "stream",
     "text": [
      "결과:30\n"
     ]
    }
   ],
   "source": [
    "#다른풀이_인풋값이 존재하고, 곱셈의 정의형태를 띄는 함수로 변경\n",
    "num1,num2=input(\"첫번,두번째 값을 띄어쓰기로 가져오시오: \").split()\n",
    "num1=int(num1)\n",
    "num2=int(num2)\n",
    "\n",
    "def solution(num1:int, num2:int) ->int:\n",
    "    i=0\n",
    "    muladd=0\n",
    "    while i<num2:\n",
    "        muladd+=num1\n",
    "        i+=1\n",
    "    return muladd\n",
    "\n",
    "result=solution(num1,num2)\n",
    "print(f\"결과:{result}\")"
   ]
  },
  {
   "cell_type": "code",
   "execution_count": 14,
   "metadata": {},
   "outputs": [],
   "source": [
    "answer = ''\n",
    "\n",
    "X,Y=input().split()\n",
    "map(int,X,Y)\n",
    "print(f\"결과:{answer}\")\n",
    "\n",
    "def solution(X, Y):\n",
    "    # answer = ''\n",
    "    \n",
    "\n",
    "    if X==0 or Y==0:\n",
    "        return -1\n",
    "    elif X==0 and Y==0:\n",
    "        return 0\n",
    "    else:\n",
    "        for i,j in len(X),len(Y):\n",
    "            if i==j:\n",
    "                answer += i        \n",
    "                return answer\n",
    "\n"
   ]
  },
  {
   "cell_type": "code",
   "execution_count": null,
   "metadata": {},
   "outputs": [],
   "source": [
    "import numpy as np\n",
    "def solution(X, Y):\n",
    "    num1=np."
   ]
  },
  {
   "cell_type": "markdown",
   "metadata": {},
   "source": [
    "# day1"
   ]
  },
  {
   "cell_type": "code",
   "execution_count": 13,
   "metadata": {},
   "outputs": [
    {
     "name": "stdin",
     "output_type": "stream",
     "text": [
      " 4 5 6\n"
     ]
    },
    {
     "name": "stdout",
     "output_type": "stream",
     "text": [
      "[4, 5, 6]\n",
      "[8, 10, 12]\n"
     ]
    }
   ],
   "source": [
    "import numpy as np\n",
    "\n",
    "def solution(numbers):\n",
    "    nA=(np.array(numbers))*2\n",
    "    answer=nA.tolist()\n",
    "    return answer\n",
    "\n",
    "#실행입력값 받아서 떼어내다.\n",
    "numbers = input().split() \n",
    "numbers = list(map(int,numbers))\n",
    "print(numbers)\n",
    "print(solution(numbers))\n"
   ]
  },
  {
   "cell_type": "code",
   "execution_count": 12,
   "metadata": {},
   "outputs": [
    {
     "name": "stdin",
     "output_type": "stream",
     "text": [
      " 4 5 6\n"
     ]
    },
    {
     "name": "stdout",
     "output_type": "stream",
     "text": [
      "[4, 5, 6]\n",
      "[8, 10, 12]\n"
     ]
    }
   ],
   "source": [
    "#list comprehention\n",
    "\n",
    "def solution(numbers):\n",
    "    return [num*2 for num in numbers]\n",
    "\n",
    "#아래는 내가 작성한 실행입력값 코드\n",
    "numbers = input().split() \n",
    "numbers = list(map(int,numbers))\n",
    "print(numbers)\n",
    "print(solution(numbers))"
   ]
  },
  {
   "cell_type": "code",
   "execution_count": 14,
   "metadata": {},
   "outputs": [
    {
     "name": "stdout",
     "output_type": "stream",
     "text": [
      "['H', 'E', 'L', 'L', 'O', 'W', 'O', 'R', 'L', 'D']\n"
     ]
    }
   ],
   "source": [
    "text=\"Hello, World!\"\n",
    "upper=[ch.upper() for ch in text if ch.isalpha()] \n",
    "print(upper)\n",
    "#문자열 text의 각 문자를 대문자로 변환하고, 문자인 경우에만 리스트에 추가합니다."
   ]
  },
  {
   "cell_type": "code",
   "execution_count": null,
   "metadata": {},
   "outputs": [],
   "source": []
  },
  {
   "cell_type": "code",
   "execution_count": null,
   "metadata": {},
   "outputs": [],
   "source": []
  },
  {
   "cell_type": "code",
   "execution_count": null,
   "metadata": {},
   "outputs": [],
   "source": []
  },
  {
   "cell_type": "code",
   "execution_count": null,
   "metadata": {},
   "outputs": [],
   "source": []
  },
  {
   "cell_type": "code",
   "execution_count": null,
   "metadata": {},
   "outputs": [],
   "source": []
  }
 ],
 "metadata": {
  "kernelspec": {
   "display_name": "Python 3 (ipykernel)",
   "language": "python",
   "name": "python3"
  },
  "language_info": {
   "codemirror_mode": {
    "name": "ipython",
    "version": 3
   },
   "file_extension": ".py",
   "mimetype": "text/x-python",
   "name": "python",
   "nbconvert_exporter": "python",
   "pygments_lexer": "ipython3",
   "version": "3.12.2"
  }
 },
 "nbformat": 4,
 "nbformat_minor": 4
}
