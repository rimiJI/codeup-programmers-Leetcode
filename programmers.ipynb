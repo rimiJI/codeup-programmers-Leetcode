{
 "cells": [
  {
   "cell_type": "markdown",
   "metadata": {},
   "source": [
    "# day1"
   ]
  },
  {
   "cell_type": "code",
   "execution_count": null,
   "metadata": {},
   "outputs": [],
   "source": [
    "#day1 두수의 곱\n",
    "def solution(num1, num2):\n",
    "    answer = 0\n",
    "    if 0 <= num1 <= 100 and 0 <= num2 <= 100:\n",
    "        answer=int(num1)*int(num2)\n",
    "        return answer"
   ]
  },
  {
   "cell_type": "code",
   "execution_count": 12,
   "metadata": {},
   "outputs": [
    {
     "name": "stdout",
     "output_type": "stream",
     "text": [
      "결과:30\n"
     ]
    }
   ],
   "source": [
    "#다른풀이_인풋값이 존재하고, 곱셈의 정의형태를 띄는 함수로 변경\n",
    "num1,num2=input(\"첫번,두번째 값을 띄어쓰기로 가져오시오: \").split()\n",
    "num1=int(num1)\n",
    "num2=int(num2)\n",
    "\n",
    "def solution(num1:int, num2:int) ->int:\n",
    "    i=0\n",
    "    muladd=0\n",
    "    while i<num2:\n",
    "        muladd+=num1\n",
    "        i+=1\n",
    "    return muladd\n",
    "\n",
    "result=solution(num1,num2)\n",
    "print(f\"결과:{result}\")"
   ]
  },
  {
   "cell_type": "code",
   "execution_count": 14,
   "metadata": {},
   "outputs": [],
   "source": [
    "answer = ''\n",
    "\n",
    "X,Y=input().split()\n",
    "map(int,X,Y)\n",
    "print(f\"결과:{answer}\")\n",
    "\n",
    "def solution(X, Y):\n",
    "    # answer = ''\n",
    "    \n",
    "\n",
    "    if X==0 or Y==0:\n",
    "        return -1\n",
    "    elif X==0 and Y==0:\n",
    "        return 0\n",
    "    else:\n",
    "        for i,j in len(X),len(Y):\n",
    "            if i==j:\n",
    "                answer += i        \n",
    "                return answer\n",
    "\n"
   ]
  },
  {
   "cell_type": "code",
   "execution_count": null,
   "metadata": {},
   "outputs": [],
   "source": []
  },
  {
   "cell_type": "code",
   "execution_count": null,
   "metadata": {},
   "outputs": [],
   "source": []
  },
  {
   "cell_type": "code",
   "execution_count": null,
   "metadata": {},
   "outputs": [],
   "source": []
  }
 ],
 "metadata": {
  "kernelspec": {
   "display_name": "Python 3",
   "language": "python",
   "name": "python3"
  },
  "language_info": {
   "codemirror_mode": {
    "name": "ipython",
    "version": 3
   },
   "file_extension": ".py",
   "mimetype": "text/x-python",
   "name": "python",
   "nbconvert_exporter": "python",
   "pygments_lexer": "ipython3",
   "version": "3.12.2"
  }
 },
 "nbformat": 4,
 "nbformat_minor": 2
}
